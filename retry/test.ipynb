{
 "cells": [
  {
   "cell_type": "code",
   "execution_count": 1,
   "metadata": {},
   "outputs": [
    {
     "name": "stdout",
     "output_type": "stream",
     "text": [
      "Module(\n",
      "    body=[\n",
      "        FunctionDef(\n",
      "            name='find_match',\n",
      "            args=arguments(\n",
      "                posonlyargs=[],\n",
      "                args=[\n",
      "                    arg(arg='lst'),\n",
      "                    arg(arg='value')],\n",
      "                kwonlyargs=[],\n",
      "                kw_defaults=[],\n",
      "                defaults=[]),\n",
      "            body=[\n",
      "                Return(\n",
      "                    value=IfExp(\n",
      "                        test=Compare(\n",
      "                            left=Name(id='value', ctx=Load()),\n",
      "                            ops=[\n",
      "                                In()],\n",
      "                            comparators=[\n",
      "                                Name(id='lst', ctx=Load())]),\n",
      "                        body=Call(\n",
      "                            func=Attribute(\n",
      "                                value=Name(id='lst', ctx=Load()),\n",
      "                                attr='index',\n",
      "                                ctx=Load()),\n",
      "                            args=[\n",
      "                                Name(id='value', ctx=Load())],\n",
      "                            keywords=[]),\n",
      "                        orelse=Constant(value=None)))],\n",
      "            decorator_list=[]),\n",
      "        Assign(\n",
      "            targets=[\n",
      "                Name(id='tm', ctx=Store())],\n",
      "            value=Name(id='find_match', ctx=Load())),\n",
      "        Expr(\n",
      "            value=Call(\n",
      "                func=Name(id='tm', ctx=Load()),\n",
      "                args=[\n",
      "                    List(\n",
      "                        elts=[\n",
      "                            Constant(value='apple'),\n",
      "                            Constant(value='banana')],\n",
      "                        ctx=Load()),\n",
      "                    Constant(value='banana')],\n",
      "                keywords=[]))],\n",
      "    type_ignores=[])\n"
     ]
    }
   ],
   "source": [
    "import ast\n",
    "\n",
    "source_code = \"\"\"\n",
    "def find_match(lst, value):\n",
    "    return lst.index(value) if value in lst else None\n",
    "\n",
    "tm = find_match\n",
    "tm([\"apple\", \"banana\"], \"banana\")\n",
    "\"\"\"\n",
    "\n",
    "tree = ast.parse(source_code)\n",
    "print(ast.dump(tree, indent=4))\n"
   ]
  },
  {
   "cell_type": "code",
   "execution_count": null,
   "metadata": {},
   "outputs": [],
   "source": []
  }
 ],
 "metadata": {
  "kernelspec": {
   "display_name": "pymag",
   "language": "python",
   "name": "python3"
  },
  "language_info": {
   "codemirror_mode": {
    "name": "ipython",
    "version": 3
   },
   "file_extension": ".py",
   "mimetype": "text/x-python",
   "name": "python",
   "nbconvert_exporter": "python",
   "pygments_lexer": "ipython3",
   "version": "3.11.11"
  }
 },
 "nbformat": 4,
 "nbformat_minor": 2
}
