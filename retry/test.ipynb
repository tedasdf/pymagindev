{
 "cells": [
  {
   "cell_type": "code",
   "execution_count": 1,
   "metadata": {},
   "outputs": [
    {
     "name": "stdout",
     "output_type": "stream",
     "text": [
      "Module(\n",
      "    body=[\n",
      "        Import(\n",
      "            names=[\n",
      "                alias(name='math'),\n",
      "                alias(name='sys'),\n",
      "                alias(name='os')])],\n",
      "    type_ignores=[])\n"
     ]
    }
   ],
   "source": [
    "import ast\n",
    "\n",
    "source_code = \"\"\"\n",
    "# 1. Importing an Entire Module\n",
    "import math\n",
    "print(math.sqrt(16))  # Output: 4.0\n",
    "\n",
    "# 2. Importing Specific Functions or Classes from a Module\n",
    "from math import sqrt, pi\n",
    "print(sqrt(16))  # Output: 4.0\n",
    "print(pi)        # Output: 3.141592653589793\n",
    "\n",
    "# 3. Importing All Functions/Classes from a Module\n",
    "from math import *\n",
    "print(sqrt(16))  # Output: 4.0\n",
    "\n",
    "# 4. Using Aliases for Modules (Renaming Modules)\n",
    "import numpy as np\n",
    "array = np.array([1, 2, 3])\n",
    "print(array)  # Output: [1 2 3]\n",
    "\n",
    "# 5. Using Aliases for Specific Functions or Classes\n",
    "from math import sqrt as square_root, pi as π\n",
    "print(square_root(16))  # Output: 4.0\n",
    "print(π)                # Output: 3.141592653589793\n",
    "\n",
    "# 6. Importing Modules Using Dynamic Imports\n",
    "import importlib\n",
    "math_module = importlib.import_module('math')\n",
    "print(math_module.sqrt(16))  # Output: 4.0\n",
    "\n",
    "# 7. Importing from Submodules\n",
    "from os import path\n",
    "print(path.exists('/some/file'))\n",
    "\n",
    "# 8. Importing Using Relative Imports (inside a package)\n",
    "# This would be used inside a package, so it's just an example:\n",
    "# from .module_name import function_name\n",
    "\n",
    "# 9. Importing Multiple Modules in One Line\n",
    "import os, sys, math\n",
    "print(math.sqrt(16))  # Output: 4.0\n",
    "print(os.name)        # Output: 'posix' (or 'nt' depending on OS)\n",
    "print(sys.version)     # Python version info\n",
    "\n",
    "# 10. Importing Using a Custom Class or Structure (not part of Python syntax)\n",
    "# This is for organizational purposes, not how Python normally handles imports\n",
    "class Import:\n",
    "    def __init__(self, names):\n",
    "        self.names = names\n",
    "\n",
    "class Alias:\n",
    "    def __init__(self, name):\n",
    "        self.name = name\n",
    "\n",
    "# Example usage of a custom structure\n",
    "imports = Import(names=[Alias(name='math'), Alias(name='sys')])\n",
    "for alias in imports.names:\n",
    "    print(alias.name)  # Output: math, sys\n",
    "\n",
    "\"\"\"\n",
    "\n",
    "tree = ast.parse(source_code)\n",
    "print(ast.dump(tree, indent=4))\n"
   ]
  },
  {
   "cell_type": "code",
   "execution_count": null,
   "metadata": {},
   "outputs": [],
   "source": []
  }
 ],
 "metadata": {
  "kernelspec": {
   "display_name": "pymag",
   "language": "python",
   "name": "python3"
  },
  "language_info": {
   "codemirror_mode": {
    "name": "ipython",
    "version": 3
   },
   "file_extension": ".py",
   "mimetype": "text/x-python",
   "name": "python",
   "nbconvert_exporter": "python",
   "pygments_lexer": "ipython3",
   "version": "3.11.11"
  }
 },
 "nbformat": 4,
 "nbformat_minor": 2
}
