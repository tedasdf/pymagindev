{
 "cells": [
  {
   "cell_type": "code",
   "execution_count": 11,
   "metadata": {},
   "outputs": [],
   "source": [
    "import ast \n",
    "import ast\n",
    "\n",
    "def make_import(trees):\n",
    "    import_list = []\n",
    "\n",
    "    for import_tree in trees:\n",
    "        if isinstance(import_tree, ast.ImportFrom):\n",
    "            # Handle 'from ... import ...' imports\n",
    "            from_inst = import_tree.module\n",
    "            names_list = [\n",
    "                (alias.name, alias.asname) if alias.asname else alias.name\n",
    "                for alias in import_tree.names\n",
    "            ]\n",
    "            # Append the import directly\n",
    "            import_list.append({from_inst: names_list})\n",
    "        \n",
    "        elif isinstance(import_tree, ast.Import):\n",
    "            # Handle 'import ...' imports\n",
    "            names_list = [\n",
    "                (alias.name, alias.asname) if alias.asname else alias.name\n",
    "                for alias in import_tree.names\n",
    "            ]\n",
    "            # Append the import directly\n",
    "            import_list.extend(names_list)\n",
    "    \n",
    "    return import_list\n"
   ]
  },
  {
   "cell_type": "code",
   "execution_count": 12,
   "metadata": {},
   "outputs": [
    {
     "name": "stdout",
     "output_type": "stream",
     "text": [
      "Module(\n",
      "    body=[\n",
      "        Import(\n",
      "            names=[\n",
      "                alias(name='math')])],\n",
      "    type_ignores=[])\n",
      "['math']\n"
     ]
    }
   ],
   "source": [
    "import ast\n",
    "from python import Python\n",
    "\n",
    "source_code = \"\"\"\n",
    "import math\n",
    "\"\"\"\n",
    "\n",
    "\n",
    "\n",
    "tree = ast.parse(source_code)\n",
    "print(ast.dump(tree, indent=4))\n",
    "print(make_import(tree.body))\n"
   ]
  },
  {
   "cell_type": "code",
   "execution_count": 13,
   "metadata": {},
   "outputs": [
    {
     "name": "stdout",
     "output_type": "stream",
     "text": [
      "Module(\n",
      "    body=[\n",
      "        ImportFrom(\n",
      "            module='math',\n",
      "            names=[\n",
      "                alias(name='sqrt'),\n",
      "                alias(name='pi')],\n",
      "            level=0)],\n",
      "    type_ignores=[])\n",
      "[{'from': 'math', 'import': 'sqrt', 'as': None}, {'from': 'math', 'import': 'pi', 'as': None}]\n"
     ]
    }
   ],
   "source": [
    "source_code1 = \"\"\"\n",
    "from math import sqrt, pi\n",
    "\"\"\"\n",
    "\n",
    "tree1 = ast.parse(source_code1)\n",
    "print(ast.dump(tree1, indent=4))\n",
    "print(Python.make_import(tree1.body))\n"
   ]
  },
  {
   "cell_type": "code",
   "execution_count": null,
   "metadata": {},
   "outputs": [],
   "source": [
    "source_code2 = \"\"\"\n",
    "\n",
    "# 3. Importing All Functions/Classes from a Module\n",
    "from math import *\n",
    "print(sqrt(16))  # Output: 4.0\n",
    "\"\"\""
   ]
  },
  {
   "cell_type": "code",
   "execution_count": 6,
   "metadata": {},
   "outputs": [
    {
     "name": "stdout",
     "output_type": "stream",
     "text": [
      "Module(\n",
      "    body=[\n",
      "        Import(\n",
      "            names=[\n",
      "                alias(name='numpy', asname='np'),\n",
      "                alias(name='matplotlib.pyplot', asname='plt')])],\n",
      "    type_ignores=[])\n"
     ]
    }
   ],
   "source": [
    "source_code3= \"\"\"\n",
    "\n",
    "# 4. Using Aliases for Modules (Renaming Modules)\n",
    "import numpy as np , matplotlib.pyplot as plt\n",
    "\"\"\"\n",
    "\n",
    "tree3 = ast.parse(source_code3)\n",
    "print(ast.dump(tree3, indent=4))"
   ]
  },
  {
   "cell_type": "code",
   "execution_count": null,
   "metadata": {},
   "outputs": [],
   "source": [
    "source_code4=\"\"\"\n",
    "\n",
    "# 5. Using Aliases for Specific Functions or Classes\n",
    "from math import sqrt as square_root, pi as π\n",
    "print(square_root(16))  # Output: 4.0\n",
    "print(π)                # Output: 3.141592653589793\n",
    "\"\"\""
   ]
  },
  {
   "cell_type": "code",
   "execution_count": null,
   "metadata": {},
   "outputs": [],
   "source": [
    "source_code5= \"\"\"\n",
    "# 5. Using Aliases for Specific Functions or Classes\n",
    "from math import sqrt as square_root, pi as π\n",
    "print(square_root(16))  # Output: 4.0\n",
    "print(π)                # Output: 3.141592653589793\n",
    "\"\"\""
   ]
  },
  {
   "cell_type": "code",
   "execution_count": null,
   "metadata": {},
   "outputs": [],
   "source": [
    "source_code6 = \"\"\"\n",
    "\n",
    "# 6. Importing Modules Using Dynamic Imports\n",
    "import importlib\n",
    "math_module = importlib.import_module('math')\n",
    "print(math_module.sqrt(16))  # Output: 4.0\n",
    "\"\"\""
   ]
  },
  {
   "cell_type": "code",
   "execution_count": null,
   "metadata": {},
   "outputs": [],
   "source": [
    "source_code7=\"\"\"\n",
    "\n",
    "# 7. Importing from Submodules\n",
    "from os import path\n",
    "print(path.exists('/some/file'))\n",
    "\"\"\""
   ]
  },
  {
   "cell_type": "code",
   "execution_count": null,
   "metadata": {},
   "outputs": [],
   "source": [
    "source_code8 = \"\"\"\n",
    "\n",
    "# 8. Importing Using Relative Imports (inside a package)\n",
    "# This would be used inside a package, so it's just an example:\n",
    "# from .module_name import function_name\n",
    "\"\"\""
   ]
  },
  {
   "cell_type": "code",
   "execution_count": null,
   "metadata": {},
   "outputs": [],
   "source": [
    "source_code9 = \"\"\"\n",
    "\n",
    "# 9. Importing Multiple Modules in One Line\n",
    "import os, sys, math\n",
    "print(math.sqrt(16))  # Output: 4.0\n",
    "print(os.name)        # Output: 'posix' (or 'nt' depending on OS)\n",
    "print(sys.version)     # Python version info\n",
    "\"\"\""
   ]
  },
  {
   "cell_type": "code",
   "execution_count": null,
   "metadata": {},
   "outputs": [],
   "source": [
    "source_code10 = \"\"\"\n",
    "\n",
    "# 10. Importing Using a Custom Class or Structure (not part of Python syntax)\n",
    "# This is for organizational purposes, not how Python normally handles imports\n",
    "class Import:\n",
    "    def __init__(self, names):\n",
    "        self.names = names\n",
    "\n",
    "class Alias:\n",
    "    def __init__(self, name):\n",
    "        self.name = name\n",
    "\n",
    "# Example usage of a custom structure\n",
    "imports = Import(names=[Alias(name='math'), Alias(name='sys')])\n",
    "for alias in imports.names:\n",
    "    print(alias.name)  # Output: math, sys\n",
    "    \"\"\""
   ]
  }
 ],
 "metadata": {
  "kernelspec": {
   "display_name": "pymag",
   "language": "python",
   "name": "python3"
  },
  "language_info": {
   "codemirror_mode": {
    "name": "ipython",
    "version": 3
   },
   "file_extension": ".py",
   "mimetype": "text/x-python",
   "name": "python",
   "nbconvert_exporter": "python",
   "pygments_lexer": "ipython3",
   "version": "3.11.11"
  }
 },
 "nbformat": 4,
 "nbformat_minor": 2
}
