{
 "cells": [
  {
   "cell_type": "code",
   "execution_count": 2,
   "metadata": {},
   "outputs": [],
   "source": [
    "import ast \n",
    "import ast\n",
    "\n",
    "def make_import(trees):\n",
    "    import_list = []\n",
    "\n",
    "    for import_tree in trees:\n",
    "        if isinstance(import_tree, ast.ImportFrom):\n",
    "            # Handle 'from ... import ...' imports\n",
    "            from_inst = import_tree.module\n",
    "            names_list = [\n",
    "                (alias.name, alias.asname) if alias.asname else alias.name\n",
    "                for alias in import_tree.names\n",
    "            ]\n",
    "            # Append the import directly\n",
    "            import_list.append({from_inst: names_list})\n",
    "        \n",
    "        elif isinstance(import_tree, ast.Import):\n",
    "            # Handle 'import ...' imports\n",
    "            names_list = [\n",
    "                (alias.name, alias.asname) if alias.asname else alias.name\n",
    "                for alias in import_tree.names\n",
    "            ]\n",
    "            # Append the import directly\n",
    "            import_list.extend(names_list)\n",
    "    \n",
    "    return import_list\n"
   ]
  },
  {
   "cell_type": "code",
   "execution_count": 3,
   "metadata": {},
   "outputs": [
    {
     "name": "stdout",
     "output_type": "stream",
     "text": [
      "Module(\n",
      "    body=[\n",
      "        Import(\n",
      "            names=[\n",
      "                alias(name='math')])],\n",
      "    type_ignores=[])\n",
      "['math']\n"
     ]
    }
   ],
   "source": [
    "import ast\n",
    "from python import Python\n",
    "\n",
    "source_code = \"\"\"\n",
    "import math\n",
    "\"\"\"\n",
    "\n",
    "\n",
    "\n",
    "tree = ast.parse(source_code)\n",
    "print(ast.dump(tree, indent=4))\n",
    "print(make_import(tree.body))\n"
   ]
  },
  {
   "cell_type": "code",
   "execution_count": 4,
   "metadata": {},
   "outputs": [
    {
     "name": "stdout",
     "output_type": "stream",
     "text": [
      "Module(\n",
      "    body=[\n",
      "        ImportFrom(\n",
      "            module='math',\n",
      "            names=[\n",
      "                alias(name='sqrt'),\n",
      "                alias(name='pi')],\n",
      "            level=0)],\n",
      "    type_ignores=[])\n",
      "[{'math': ['sqrt', 'pi']}]\n"
     ]
    }
   ],
   "source": [
    "source_code1 = \"\"\"\n",
    "from math import sqrt, pi\n",
    "\"\"\"\n",
    "\n",
    "tree1 = ast.parse(source_code1)\n",
    "print(ast.dump(tree1, indent=4))\n",
    "print(make_import(tree1.body))"
   ]
  },
  {
   "cell_type": "code",
   "execution_count": 5,
   "metadata": {},
   "outputs": [
    {
     "name": "stdout",
     "output_type": "stream",
     "text": [
      "Module(\n",
      "    body=[\n",
      "        ImportFrom(\n",
      "            module='math',\n",
      "            names=[\n",
      "                alias(name='*')],\n",
      "            level=0),\n",
      "        Expr(\n",
      "            value=Call(\n",
      "                func=Name(id='print', ctx=Load()),\n",
      "                args=[\n",
      "                    Call(\n",
      "                        func=Name(id='sqrt', ctx=Load()),\n",
      "                        args=[\n",
      "                            Constant(value=16)],\n",
      "                        keywords=[])],\n",
      "                keywords=[]))],\n",
      "    type_ignores=[])\n",
      "[{'math': ['*']}]\n"
     ]
    }
   ],
   "source": [
    "source_code2 = \"\"\"\n",
    "\n",
    "# 3. Importing All Functions/Classes from a Module\n",
    "from math import *\n",
    "print(sqrt(16))  # Output: 4.0\n",
    "\"\"\"\n",
    "\n",
    "tree2 = ast.parse(source_code2)\n",
    "print(ast.dump(tree2, indent=4))\n",
    "print(make_import(tree2.body))"
   ]
  },
  {
   "cell_type": "code",
   "execution_count": 6,
   "metadata": {},
   "outputs": [
    {
     "name": "stdout",
     "output_type": "stream",
     "text": [
      "Module(\n",
      "    body=[\n",
      "        Import(\n",
      "            names=[\n",
      "                alias(name='numpy', asname='np'),\n",
      "                alias(name='matplotlib.pyplot', asname='plt')])],\n",
      "    type_ignores=[])\n",
      "[('numpy', 'np'), ('matplotlib.pyplot', 'plt')]\n"
     ]
    }
   ],
   "source": [
    "source_code3= \"\"\"\n",
    "\n",
    "# 4. Using Aliases for Modules (Renaming Modules)\n",
    "import numpy as np , matplotlib.pyplot as plt\n",
    "\"\"\"\n",
    "\n",
    "tree = ast.parse(source_code3)\n",
    "print(ast.dump(tree, indent=4))\n",
    "print(make_import(tree.body))"
   ]
  },
  {
   "cell_type": "code",
   "execution_count": 7,
   "metadata": {},
   "outputs": [
    {
     "name": "stdout",
     "output_type": "stream",
     "text": [
      "Module(\n",
      "    body=[\n",
      "        ImportFrom(\n",
      "            module='math',\n",
      "            names=[\n",
      "                alias(name='sqrt', asname='square_root'),\n",
      "                alias(name='pi', asname='π')],\n",
      "            level=0)],\n",
      "    type_ignores=[])\n",
      "[{'math': [('sqrt', 'square_root'), ('pi', 'π')]}]\n"
     ]
    }
   ],
   "source": [
    "source_code4=\"\"\"\n",
    "\n",
    "# 5. Using Aliases for Specific Functions or Classes\n",
    "from math import sqrt as square_root, pi as π\n",
    "\"\"\"\n",
    "tree = ast.parse(source_code4)\n",
    "print(ast.dump(tree, indent=4))\n",
    "print(make_import(tree.body))"
   ]
  },
  {
   "cell_type": "code",
   "execution_count": 8,
   "metadata": {},
   "outputs": [
    {
     "name": "stdout",
     "output_type": "stream",
     "text": [
      "Module(\n",
      "    body=[\n",
      "        ImportFrom(\n",
      "            module='math',\n",
      "            names=[\n",
      "                alias(name='sqrt', asname='square_root'),\n",
      "                alias(name='pi', asname='π')],\n",
      "            level=0)],\n",
      "    type_ignores=[])\n",
      "[{'math': [('sqrt', 'square_root'), ('pi', 'π')]}]\n"
     ]
    }
   ],
   "source": [
    "source_code5= \"\"\"\n",
    "# 5. Using Aliases for Specific Functions or Classes\n",
    "from math import sqrt as square_root, pi as π\n",
    "\"\"\"\n",
    "\n",
    "tree = ast.parse(source_code5)\n",
    "print(ast.dump(tree, indent=4))\n",
    "print(make_import(tree.body))"
   ]
  },
  {
   "cell_type": "code",
   "execution_count": 9,
   "metadata": {},
   "outputs": [
    {
     "name": "stdout",
     "output_type": "stream",
     "text": [
      "Module(\n",
      "    body=[\n",
      "        Import(\n",
      "            names=[\n",
      "                alias(name='importlib')]),\n",
      "        Assign(\n",
      "            targets=[\n",
      "                Name(id='math_module', ctx=Store())],\n",
      "            value=Call(\n",
      "                func=Attribute(\n",
      "                    value=Name(id='importlib', ctx=Load()),\n",
      "                    attr='import_module',\n",
      "                    ctx=Load()),\n",
      "                args=[\n",
      "                    Constant(value='math')],\n",
      "                keywords=[])),\n",
      "        Expr(\n",
      "            value=Call(\n",
      "                func=Name(id='print', ctx=Load()),\n",
      "                args=[\n",
      "                    Call(\n",
      "                        func=Attribute(\n",
      "                            value=Name(id='math_module', ctx=Load()),\n",
      "                            attr='sqrt',\n",
      "                            ctx=Load()),\n",
      "                        args=[\n",
      "                            Constant(value=16)],\n",
      "                        keywords=[])],\n",
      "                keywords=[]))],\n",
      "    type_ignores=[])\n",
      "['importlib']\n"
     ]
    }
   ],
   "source": [
    "source_code6 = \"\"\"\n",
    "\n",
    "# 6. Importing Modules Using Dynamic Imports\n",
    "import importlib\n",
    "math_module = importlib.import_module('math')\n",
    "print(math_module.sqrt(16))  # Output: 4.0\n",
    "\"\"\"\n",
    "\n",
    "tree = ast.parse(source_code6)\n",
    "print(ast.dump(tree, indent=4))\n",
    "print(make_import(tree.body))"
   ]
  },
  {
   "cell_type": "code",
   "execution_count": null,
   "metadata": {},
   "outputs": [],
   "source": [
    "source_code7=\"\"\"\n",
    "\n",
    "# 7. Importing from Submodules\n",
    "from os import path\n",
    "print(path.exists('/some/file'))\n",
    "\"\"\"\n",
    "tree = ast.parse(source_code7)\n",
    "print(ast.dump(tree, indent=4))\n",
    "print(make_import(tree.body))"
   ]
  },
  {
   "cell_type": "code",
   "execution_count": null,
   "metadata": {},
   "outputs": [],
   "source": [
    "source_code8 = \"\"\"\n",
    "\n",
    "# 8. Importing Using Relative Imports (inside a package)\n",
    "# This would be used inside a package, so it's just an example:\n",
    "# from .module_name import function_name\n",
    "\"\"\"\n",
    "\n",
    "tree = ast.parse(source_code8)\n",
    "print(ast.dump(tree, indent=4))\n",
    "print(make_import(tree.body))"
   ]
  },
  {
   "cell_type": "code",
   "execution_count": null,
   "metadata": {},
   "outputs": [],
   "source": [
    "source_code9 = \"\"\"\n",
    "\n",
    "# 9. Importing Multiple Modules in One Line\n",
    "import os, sys, math\n",
    "print(math.sqrt(16))  # Output: 4.0\n",
    "print(os.name)        # Output: 'posix' (or 'nt' depending on OS)\n",
    "print(sys.version)     # Python version info\n",
    "\"\"\"\n",
    "tree = ast.parse(source_code9)\n",
    "print(ast.dump(tree, indent=4))\n",
    "print(make_import(tree.body))"
   ]
  },
  {
   "cell_type": "code",
   "execution_count": null,
   "metadata": {},
   "outputs": [],
   "source": [
    "source_code10 = \"\"\"\n",
    "\n",
    "# 10. Importing Using a Custom Class or Structure (not part of Python syntax)\n",
    "# This is for organizational purposes, not how Python normally handles imports\n",
    "class Import:\n",
    "    def __init__(self, names):\n",
    "        self.names = names\n",
    "\n",
    "class Alias:\n",
    "    def __init__(self, name):\n",
    "        self.name = name\n",
    "\n",
    "# Example usage of a custom structure\n",
    "imports = Import(names=[Alias(name='math'), Alias(name='sys')])\n",
    "for alias in imports.names:\n",
    "    print(alias.name)  # Output: math, sys\n",
    "    \"\"\"\n",
    "\n",
    "tree = ast.parse(source_code10)\n",
    "print(ast.dump(tree, indent=4))\n",
    "print(make_import(tree.body))"
   ]
  },
  {
   "cell_type": "code",
   "execution_count": 11,
   "metadata": {},
   "outputs": [
    {
     "name": "stdout",
     "output_type": "stream",
     "text": [
      "Module 'functional' not found.\n",
      "Module 'functional' is NOT from the same repository.\n"
     ]
    }
   ],
   "source": [
    "import os\n",
    "import sys\n",
    "import importlib\n",
    "\n",
    "def is_module_in_repo(module_name, repo_path):\n",
    "    try:\n",
    "        # Import the module\n",
    "        module = importlib.import_module(module_name)\n",
    "        \n",
    "        # Get the file path of the module\n",
    "        module_path = getattr(module, '__file__', None)\n",
    "        \n",
    "        if module_path:\n",
    "            # Get the absolute path of the module\n",
    "            module_abs_path = os.path.abspath(module_path)\n",
    "            \n",
    "            # Check if the module's directory is within the repo path\n",
    "            repo_abs_path = os.path.abspath(repo_path)\n",
    "            \n",
    "            # Return True if the module is within the repo directory\n",
    "            return module_abs_path.startswith(repo_abs_path)\n",
    "        \n",
    "        else:\n",
    "            # If the module has no __file__ attribute, it's probably a built-in or C-extension module\n",
    "            return False\n",
    "    except ModuleNotFoundError:\n",
    "        print(f\"Module '{module_name}' not found.\")\n",
    "        return False\n",
    "\n",
    "# Example usage\n",
    "repo_path = './test/test_example10'  # Replace with the path to your repo\n",
    "module_name = 'functional'  # Replace with the name of the module you want to check\n",
    "\n",
    "if is_module_in_repo(module_name, repo_path):\n",
    "    print(f\"Module '{module_name}' is from the same repository.\")\n",
    "else:\n",
    "    print(f\"Module '{module_name}' is NOT from the same repository.\")\n"
   ]
  },
  {
   "cell_type": "code",
   "execution_count": 12,
   "metadata": {},
   "outputs": [
    {
     "ename": "ModuleNotFoundError",
     "evalue": "No module named 'functional'",
     "output_type": "error",
     "traceback": [
      "\u001b[1;31m---------------------------------------------------------------------------\u001b[0m",
      "\u001b[1;31mModuleNotFoundError\u001b[0m                       Traceback (most recent call last)",
      "Cell \u001b[1;32mIn[12], line 2\u001b[0m\n\u001b[0;32m      1\u001b[0m \u001b[38;5;66;03m# Import the module\u001b[39;00m\n\u001b[1;32m----> 2\u001b[0m module \u001b[38;5;241m=\u001b[39m \u001b[43mimportlib\u001b[49m\u001b[38;5;241;43m.\u001b[39;49m\u001b[43mimport_module\u001b[49m\u001b[43m(\u001b[49m\u001b[43mmodule_name\u001b[49m\u001b[43m)\u001b[49m\n\u001b[0;32m      4\u001b[0m \u001b[38;5;66;03m# Get the file path of the module\u001b[39;00m\n\u001b[0;32m      5\u001b[0m module_path \u001b[38;5;241m=\u001b[39m \u001b[38;5;28mgetattr\u001b[39m(module, \u001b[38;5;124m'\u001b[39m\u001b[38;5;124m__file__\u001b[39m\u001b[38;5;124m'\u001b[39m, \u001b[38;5;28;01mNone\u001b[39;00m)\n",
      "File \u001b[1;32mc:\\Users\\teeds\\anaconda3\\envs\\pymag\\Lib\\importlib\\__init__.py:126\u001b[0m, in \u001b[0;36mimport_module\u001b[1;34m(name, package)\u001b[0m\n\u001b[0;32m    124\u001b[0m             \u001b[38;5;28;01mbreak\u001b[39;00m\n\u001b[0;32m    125\u001b[0m         level \u001b[38;5;241m+\u001b[39m\u001b[38;5;241m=\u001b[39m \u001b[38;5;241m1\u001b[39m\n\u001b[1;32m--> 126\u001b[0m \u001b[38;5;28;01mreturn\u001b[39;00m \u001b[43m_bootstrap\u001b[49m\u001b[38;5;241;43m.\u001b[39;49m\u001b[43m_gcd_import\u001b[49m\u001b[43m(\u001b[49m\u001b[43mname\u001b[49m\u001b[43m[\u001b[49m\u001b[43mlevel\u001b[49m\u001b[43m:\u001b[49m\u001b[43m]\u001b[49m\u001b[43m,\u001b[49m\u001b[43m \u001b[49m\u001b[43mpackage\u001b[49m\u001b[43m,\u001b[49m\u001b[43m \u001b[49m\u001b[43mlevel\u001b[49m\u001b[43m)\u001b[49m\n",
      "File \u001b[1;32m<frozen importlib._bootstrap>:1204\u001b[0m, in \u001b[0;36m_gcd_import\u001b[1;34m(name, package, level)\u001b[0m\n",
      "File \u001b[1;32m<frozen importlib._bootstrap>:1176\u001b[0m, in \u001b[0;36m_find_and_load\u001b[1;34m(name, import_)\u001b[0m\n",
      "File \u001b[1;32m<frozen importlib._bootstrap>:1140\u001b[0m, in \u001b[0;36m_find_and_load_unlocked\u001b[1;34m(name, import_)\u001b[0m\n",
      "\u001b[1;31mModuleNotFoundError\u001b[0m: No module named 'functional'"
     ]
    }
   ],
   "source": [
    "# Import the module\n",
    "module = importlib.import_module(module_name)\n",
    "\n",
    "# Get the file path of the module\n",
    "module_path = getattr(module, '__file__', None)"
   ]
  },
  {
   "cell_type": "code",
   "execution_count": 6,
   "metadata": {},
   "outputs": [],
   "source": [
    "if not os.path.exists(repo_path):\n",
    "    print(f\"Error: The repository path '{repo_path}' does not exist.\")\n",
    "\n",
    "if not os.path.isdir(repo_path):\n",
    "    print(f\"Error: The path '{repo_path}' is not a directory.\")"
   ]
  },
  {
   "cell_type": "code",
   "execution_count": null,
   "metadata": {},
   "outputs": [],
   "source": [
    "retry\\test\\test_example10\\functional.py"
   ]
  },
  {
   "cell_type": "code",
   "execution_count": 14,
   "metadata": {},
   "outputs": [
    {
     "name": "stdout",
     "output_type": "stream",
     "text": [
      "Module 'functional' not found.\n",
      "Module 'functional' is NOT from the same repository.\n"
     ]
    }
   ],
   "source": [
    "import os\n",
    "import importlib\n",
    "\n",
    "def is_module_in_same_repo(module_name, script_path):\n",
    "    try:\n",
    "        # Import the module dynamically\n",
    "        module = importlib.import_module(module_name)\n",
    "        \n",
    "        # Get the absolute path of the module's file\n",
    "        module_path = getattr(module, '__file__', None)\n",
    "        \n",
    "        if module_path:\n",
    "            # Absolute path of the module\n",
    "            module_abs_path = os.path.abspath(module_path)\n",
    "            \n",
    "            # Get the absolute path of the current script (this file)\n",
    "            script_abs_path = os.path.abspath(script_path)\n",
    "            \n",
    "            # Get the root directory of the repo by finding the common base\n",
    "            module_base_dir = os.path.dirname(module_abs_path)\n",
    "            script_base_dir = os.path.dirname(script_abs_path)\n",
    "            \n",
    "            # Compare the base directories of the module and the script\n",
    "            return os.path.commonpath([module_base_dir, script_base_dir]) == module_base_dir\n",
    "        \n",
    "        else:\n",
    "            print(f\"Module '{module_name}' does not have a '__file__' attribute.\")\n",
    "            return False\n",
    "    \n",
    "    except ModuleNotFoundError:\n",
    "        print(f\"Module '{module_name}' not found.\")\n",
    "        return False\n",
    "\n",
    "# Example usage\n",
    "repo_path = './test/test_example10'  # Replace with the root directory of your repo\n",
    "script_path = '/test/test_example10/test.py'  # Replace with the current script's path\n",
    "module_name = 'functional'  # Replace with the name of the module to check\n",
    "\n",
    "if is_module_in_same_repo(module_name, script_path):\n",
    "    print(f\"Module '{module_name}' is from the same repository.\")\n",
    "else:\n",
    "    print(f\"Module '{module_name}' is NOT from the same repository.\")\n"
   ]
  },
  {
   "cell_type": "code",
   "execution_count": 17,
   "metadata": {},
   "outputs": [
    {
     "ename": "ModuleNotFoundError",
     "evalue": "No module named 'functional'",
     "output_type": "error",
     "traceback": [
      "\u001b[1;31m---------------------------------------------------------------------------\u001b[0m",
      "\u001b[1;31mModuleNotFoundError\u001b[0m                       Traceback (most recent call last)",
      "Cell \u001b[1;32mIn[17], line 1\u001b[0m\n\u001b[1;32m----> 1\u001b[0m module \u001b[38;5;241m=\u001b[39m \u001b[43mimportlib\u001b[49m\u001b[38;5;241;43m.\u001b[39;49m\u001b[43mimport_module\u001b[49m\u001b[43m(\u001b[49m\u001b[43mmodule_name\u001b[49m\u001b[43m)\u001b[49m\n",
      "File \u001b[1;32mc:\\Users\\teeds\\anaconda3\\envs\\pymag\\Lib\\importlib\\__init__.py:126\u001b[0m, in \u001b[0;36mimport_module\u001b[1;34m(name, package)\u001b[0m\n\u001b[0;32m    124\u001b[0m             \u001b[38;5;28;01mbreak\u001b[39;00m\n\u001b[0;32m    125\u001b[0m         level \u001b[38;5;241m+\u001b[39m\u001b[38;5;241m=\u001b[39m \u001b[38;5;241m1\u001b[39m\n\u001b[1;32m--> 126\u001b[0m \u001b[38;5;28;01mreturn\u001b[39;00m \u001b[43m_bootstrap\u001b[49m\u001b[38;5;241;43m.\u001b[39;49m\u001b[43m_gcd_import\u001b[49m\u001b[43m(\u001b[49m\u001b[43mname\u001b[49m\u001b[43m[\u001b[49m\u001b[43mlevel\u001b[49m\u001b[43m:\u001b[49m\u001b[43m]\u001b[49m\u001b[43m,\u001b[49m\u001b[43m \u001b[49m\u001b[43mpackage\u001b[49m\u001b[43m,\u001b[49m\u001b[43m \u001b[49m\u001b[43mlevel\u001b[49m\u001b[43m)\u001b[49m\n",
      "File \u001b[1;32m<frozen importlib._bootstrap>:1204\u001b[0m, in \u001b[0;36m_gcd_import\u001b[1;34m(name, package, level)\u001b[0m\n",
      "File \u001b[1;32m<frozen importlib._bootstrap>:1176\u001b[0m, in \u001b[0;36m_find_and_load\u001b[1;34m(name, import_)\u001b[0m\n",
      "File \u001b[1;32m<frozen importlib._bootstrap>:1140\u001b[0m, in \u001b[0;36m_find_and_load_unlocked\u001b[1;34m(name, import_)\u001b[0m\n",
      "\u001b[1;31mModuleNotFoundError\u001b[0m: No module named 'functional'"
     ]
    }
   ],
   "source": [
    "module = importlib.import_module(module_name)"
   ]
  },
  {
   "cell_type": "code",
   "execution_count": 18,
   "metadata": {},
   "outputs": [
    {
     "name": "stdout",
     "output_type": "stream",
     "text": [
      "Module 'functional' not found.\n",
      "Module 'functional' is NOT from the same directory.\n"
     ]
    }
   ],
   "source": [
    "import os\n",
    "import importlib\n",
    "\n",
    "def is_module_in_same_directory(module_name, script_path):\n",
    "    try:\n",
    "        # Import the module dynamically\n",
    "        module = importlib.import_module(module_name)\n",
    "        \n",
    "        # Get the absolute path of the module's file\n",
    "        module_path = getattr(module, '__file__', None)\n",
    "        \n",
    "        if module_path:\n",
    "            # Absolute path of the module\n",
    "            module_abs_path = os.path.abspath(module_path)\n",
    "            \n",
    "            # Get the directory of the current script (this file)\n",
    "            script_dir = os.path.dirname(os.path.abspath(script_path))\n",
    "            \n",
    "            # Compare the directory of the module and the script\n",
    "            return os.path.dirname(module_abs_path) == script_dir\n",
    "        \n",
    "        else:\n",
    "            print(f\"Module '{module_name}' does not have a '__file__' attribute.\")\n",
    "            return False\n",
    "    \n",
    "    except ModuleNotFoundError:\n",
    "        print(f\"Module '{module_name}' not found.\")\n",
    "        return False\n",
    "\n",
    "# Example usage\n",
    "repo_path = './test'  # Replace with the root directory of your repo\n",
    "script_path = './test/test_example10/test.py'  # Replace with the current script's path\n",
    "module_name = 'functional'  # Replace with the name of the module to check\n",
    "\n",
    "if is_module_in_same_directory(module_name, script_path):\n",
    "    print(f\"Module '{module_name}' is from the same directory.\")\n",
    "else:\n",
    "    print(f\"Module '{module_name}' is NOT from the same directory.\")\n"
   ]
  },
  {
   "cell_type": "code",
   "execution_count": 19,
   "metadata": {},
   "outputs": [
    {
     "ename": "ModuleNotFoundError",
     "evalue": "No module named 'functional'",
     "output_type": "error",
     "traceback": [
      "\u001b[1;31m---------------------------------------------------------------------------\u001b[0m",
      "\u001b[1;31mModuleNotFoundError\u001b[0m                       Traceback (most recent call last)",
      "Cell \u001b[1;32mIn[19], line 1\u001b[0m\n\u001b[1;32m----> 1\u001b[0m module \u001b[38;5;241m=\u001b[39m \u001b[43mimportlib\u001b[49m\u001b[38;5;241;43m.\u001b[39;49m\u001b[43mimport_module\u001b[49m\u001b[43m(\u001b[49m\u001b[43mmodule_name\u001b[49m\u001b[43m)\u001b[49m\n",
      "File \u001b[1;32mc:\\Users\\teeds\\anaconda3\\envs\\pymag\\Lib\\importlib\\__init__.py:126\u001b[0m, in \u001b[0;36mimport_module\u001b[1;34m(name, package)\u001b[0m\n\u001b[0;32m    124\u001b[0m             \u001b[38;5;28;01mbreak\u001b[39;00m\n\u001b[0;32m    125\u001b[0m         level \u001b[38;5;241m+\u001b[39m\u001b[38;5;241m=\u001b[39m \u001b[38;5;241m1\u001b[39m\n\u001b[1;32m--> 126\u001b[0m \u001b[38;5;28;01mreturn\u001b[39;00m \u001b[43m_bootstrap\u001b[49m\u001b[38;5;241;43m.\u001b[39;49m\u001b[43m_gcd_import\u001b[49m\u001b[43m(\u001b[49m\u001b[43mname\u001b[49m\u001b[43m[\u001b[49m\u001b[43mlevel\u001b[49m\u001b[43m:\u001b[49m\u001b[43m]\u001b[49m\u001b[43m,\u001b[49m\u001b[43m \u001b[49m\u001b[43mpackage\u001b[49m\u001b[43m,\u001b[49m\u001b[43m \u001b[49m\u001b[43mlevel\u001b[49m\u001b[43m)\u001b[49m\n",
      "File \u001b[1;32m<frozen importlib._bootstrap>:1204\u001b[0m, in \u001b[0;36m_gcd_import\u001b[1;34m(name, package, level)\u001b[0m\n",
      "File \u001b[1;32m<frozen importlib._bootstrap>:1176\u001b[0m, in \u001b[0;36m_find_and_load\u001b[1;34m(name, import_)\u001b[0m\n",
      "File \u001b[1;32m<frozen importlib._bootstrap>:1140\u001b[0m, in \u001b[0;36m_find_and_load_unlocked\u001b[1;34m(name, import_)\u001b[0m\n",
      "\u001b[1;31mModuleNotFoundError\u001b[0m: No module named 'functional'"
     ]
    }
   ],
   "source": [
    "module = importlib.import_module(module_name)"
   ]
  },
  {
   "cell_type": "code",
   "execution_count": null,
   "metadata": {},
   "outputs": [],
   "source": [
    "    module = importlib.import_module(module_name)"
   ]
  },
  {
   "cell_type": "code",
   "execution_count": 16,
   "metadata": {},
   "outputs": [
    {
     "name": "stdout",
     "output_type": "stream",
     "text": [
      "Module 'functional' not found.\n",
      "Module 'functional' is NOT from the same repo.\n"
     ]
    }
   ],
   "source": [
    "import importlib\n",
    "import os\n",
    "\n",
    "def is_module_in_same_repo(module_name, repo_path):\n",
    "    try:\n",
    "        # Try to import the module dynamically\n",
    "        module = importlib.import_module(module_name)\n",
    "        \n",
    "        # Get the module file path\n",
    "        module_path = getattr(module, '__file__', None)\n",
    "        \n",
    "        if module_path:\n",
    "            # Absolute path of the module\n",
    "            module_abs_path = os.path.abspath(module_path)\n",
    "            \n",
    "            # Search for the module within the repo directory\n",
    "            for root, dirs, files in os.walk(repo_path):\n",
    "                if f\"{module_name}.py\" in files:  # Assuming Python file\n",
    "                    repo_module_path = os.path.join(root, f\"{module_name}.py\")\n",
    "                    \n",
    "                    # Check if the module is located anywhere within the repo\n",
    "                    if os.path.samefile(module_abs_path, repo_module_path):\n",
    "                        print(f\"Module '{module_name}' is from the same repo.\")\n",
    "                        return True\n",
    "            \n",
    "        else:\n",
    "            print(f\"Module '{module_name}' is likely a built-in or external module.\")\n",
    "        return False\n",
    "\n",
    "    except ModuleNotFoundError:\n",
    "        print(f\"Module '{module_name}' not found.\")\n",
    "        return False\n",
    "\n",
    "# Example usage\n",
    "repo_path = '/'  # Replace with the root directory of your repo\n",
    "module_name = 'functional'  # Replace with the name of the module to check\n",
    "\n",
    "if is_module_in_same_repo(module_name, repo_path):\n",
    "    print(f\"Module '{module_name}' is from the same repo.\")\n",
    "else:\n",
    "    print(f\"Module '{module_name}' is NOT from the same repo.\")\n"
   ]
  },
  {
   "cell_type": "code",
   "execution_count": 23,
   "metadata": {},
   "outputs": [
    {
     "name": "stdout",
     "output_type": "stream",
     "text": [
      "Module 'functional' not found.\n",
      "Module 'functional' is NOT from the same repo.\n"
     ]
    }
   ],
   "source": [
    "import importlib\n",
    "import os\n",
    "import sys\n",
    "\n",
    "def is_module_in_same_repo(module_name, repo_path):\n",
    "    try:\n",
    "        # Add repo directory to sys.path temporarily\n",
    "        sys.path.append(repo_path)\n",
    "        \n",
    "        # Try to import the module dynamically\n",
    "        module = importlib.import_module(module_name)\n",
    "        \n",
    "        # Get the file path of the module\n",
    "        module_path = getattr(module, '__file__', None)\n",
    "        \n",
    "        if module_path:\n",
    "            # Absolute path of the module\n",
    "            module_abs_path = os.path.abspath(module_path)\n",
    "            \n",
    "            # Absolute path of the repo\n",
    "            repo_abs_path = os.path.abspath(repo_path)\n",
    "            \n",
    "            # Check if the module is inside the repo\n",
    "            return module_abs_path.startswith(repo_abs_path)\n",
    "        \n",
    "        else:\n",
    "            print(f\"Module '{module_name}' is likely a built-in or external module.\")\n",
    "            return False\n",
    "\n",
    "    except ModuleNotFoundError:\n",
    "        print(f\"Module '{module_name}' not found.\")\n",
    "        return False\n",
    "    finally:\n",
    "        # Always remove the repo path from sys.path after the import\n",
    "        sys.path.pop()\n",
    "\n",
    "# Example usage\n",
    "repo_path = '.\\test\\test_Example10'  # Replace with the root directory of your repo\n",
    "module_name = 'functional'  # Replace with the name of the module to check\n",
    "\n",
    "if is_module_in_same_repo(module_name, repo_path):\n",
    "    print(f\"Module '{module_name}' is from the same repo.\")\n",
    "else:\n",
    "    print(f\"Module '{module_name}' is NOT from the same repo.\")\n"
   ]
  },
  {
   "cell_type": "code",
   "execution_count": 24,
   "metadata": {},
   "outputs": [],
   "source": [
    "sys.path.append(repo_path)"
   ]
  },
  {
   "cell_type": "code",
   "execution_count": 25,
   "metadata": {},
   "outputs": [
    {
     "ename": "ModuleNotFoundError",
     "evalue": "No module named 'tiktoken'",
     "output_type": "error",
     "traceback": [
      "\u001b[1;31m---------------------------------------------------------------------------\u001b[0m",
      "\u001b[1;31mModuleNotFoundError\u001b[0m                       Traceback (most recent call last)",
      "Cell \u001b[1;32mIn[25], line 1\u001b[0m\n\u001b[1;32m----> 1\u001b[0m module \u001b[38;5;241m=\u001b[39m \u001b[43mimportlib\u001b[49m\u001b[38;5;241;43m.\u001b[39;49m\u001b[43mimport_module\u001b[49m\u001b[43m(\u001b[49m\u001b[43mmodule_name\u001b[49m\u001b[43m)\u001b[49m\n",
      "File \u001b[1;32mc:\\Users\\teeds\\anaconda3\\envs\\pymag\\Lib\\importlib\\__init__.py:126\u001b[0m, in \u001b[0;36mimport_module\u001b[1;34m(name, package)\u001b[0m\n\u001b[0;32m    124\u001b[0m             \u001b[38;5;28;01mbreak\u001b[39;00m\n\u001b[0;32m    125\u001b[0m         level \u001b[38;5;241m+\u001b[39m\u001b[38;5;241m=\u001b[39m \u001b[38;5;241m1\u001b[39m\n\u001b[1;32m--> 126\u001b[0m \u001b[38;5;28;01mreturn\u001b[39;00m \u001b[43m_bootstrap\u001b[49m\u001b[38;5;241;43m.\u001b[39;49m\u001b[43m_gcd_import\u001b[49m\u001b[43m(\u001b[49m\u001b[43mname\u001b[49m\u001b[43m[\u001b[49m\u001b[43mlevel\u001b[49m\u001b[43m:\u001b[49m\u001b[43m]\u001b[49m\u001b[43m,\u001b[49m\u001b[43m \u001b[49m\u001b[43mpackage\u001b[49m\u001b[43m,\u001b[49m\u001b[43m \u001b[49m\u001b[43mlevel\u001b[49m\u001b[43m)\u001b[49m\n",
      "File \u001b[1;32m<frozen importlib._bootstrap>:1204\u001b[0m, in \u001b[0;36m_gcd_import\u001b[1;34m(name, package, level)\u001b[0m\n",
      "File \u001b[1;32m<frozen importlib._bootstrap>:1176\u001b[0m, in \u001b[0;36m_find_and_load\u001b[1;34m(name, import_)\u001b[0m\n",
      "File \u001b[1;32m<frozen importlib._bootstrap>:1147\u001b[0m, in \u001b[0;36m_find_and_load_unlocked\u001b[1;34m(name, import_)\u001b[0m\n",
      "File \u001b[1;32m<frozen importlib._bootstrap>:690\u001b[0m, in \u001b[0;36m_load_unlocked\u001b[1;34m(spec)\u001b[0m\n",
      "File \u001b[1;32m<frozen importlib._bootstrap_external>:940\u001b[0m, in \u001b[0;36mexec_module\u001b[1;34m(self, module)\u001b[0m\n",
      "File \u001b[1;32m<frozen importlib._bootstrap>:241\u001b[0m, in \u001b[0;36m_call_with_frames_removed\u001b[1;34m(f, *args, **kwds)\u001b[0m\n",
      "File \u001b[1;32mc:\\Users\\teeds\\Desktop\\projects\\pymagindev\\retry\\./test/test_Example10\\functional.py:7\u001b[0m\n\u001b[0;32m      3\u001b[0m \u001b[38;5;28;01mimport\u001b[39;00m\u001b[38;5;250m \u001b[39m\u001b[38;5;21;01mre\u001b[39;00m\n\u001b[0;32m      5\u001b[0m \u001b[38;5;28;01mfrom\u001b[39;00m\u001b[38;5;250m \u001b[39m\u001b[38;5;21;01mtyping\u001b[39;00m\u001b[38;5;250m \u001b[39m\u001b[38;5;28;01mimport\u001b[39;00m Any, Dict, List, Tuple\n\u001b[1;32m----> 7\u001b[0m \u001b[38;5;28;01mfrom\u001b[39;00m\u001b[38;5;250m \u001b[39m\u001b[38;5;21;01mtiktoken\u001b[39;00m\u001b[38;5;250m \u001b[39m\u001b[38;5;28;01mimport\u001b[39;00m Encoding\n\u001b[0;32m      9\u001b[0m \u001b[38;5;28;01mfrom\u001b[39;00m\u001b[38;5;250m \u001b[39m\u001b[38;5;21;01magential\u001b[39;00m\u001b[38;5;21;01m.\u001b[39;00m\u001b[38;5;21;01magents\u001b[39;00m\u001b[38;5;21;01m.\u001b[39;00m\u001b[38;5;21;01mreact\u001b[39;00m\u001b[38;5;21;01m.\u001b[39;00m\u001b[38;5;21;01moutput\u001b[39;00m\u001b[38;5;250m \u001b[39m\u001b[38;5;28;01mimport\u001b[39;00m ReActStepOutput\n\u001b[0;32m     10\u001b[0m \u001b[38;5;28;01mfrom\u001b[39;00m\u001b[38;5;250m \u001b[39m\u001b[38;5;21;01magential\u001b[39;00m\u001b[38;5;21;01m.\u001b[39;00m\u001b[38;5;21;01mcore\u001b[39;00m\u001b[38;5;21;01m.\u001b[39;00m\u001b[38;5;21;01mllm\u001b[39;00m\u001b[38;5;250m \u001b[39m\u001b[38;5;28;01mimport\u001b[39;00m BaseLLM, Response\n",
      "\u001b[1;31mModuleNotFoundError\u001b[0m: No module named 'tiktoken'"
     ]
    }
   ],
   "source": [
    "module = importlib.import_module(module_name)"
   ]
  },
  {
   "cell_type": "code",
   "execution_count": 39,
   "metadata": {},
   "outputs": [
    {
     "name": "stdout",
     "output_type": "stream",
     "text": [
      "['__pycache__']\n",
      "Module '__pycache__' found at: c:\\Users\\teeds\\Desktop\\projects\\pymagindev\\retry\\test\\test_example10\\__pycache__\n",
      "Module '__pycache__' is from the same repo.\n"
     ]
    }
   ],
   "source": [
    "import os\n",
    "\n",
    "def is_module_in_repo(module_name, repo_path):\n",
    "    # Construct the name of the file to look for\n",
    "    \n",
    "    # Walk through the repo directory structure\n",
    "    for root, dirs, files in os.walk(repo_path):\n",
    "        print(dirs)\n",
    "        if f\"{module_name}.py\" in files:\n",
    "            # If the module file is found, return True\n",
    "            module_abs_path = os.path.abspath(os.path.join(root, f\"{module_name}.py\"))\n",
    "            print(f\"Module '{module_name}' found at: {module_abs_path}\")\n",
    "            return True\n",
    "        if module_name in dirs:\n",
    "            module_abs_path = os.path.abspath(os.path.join(root, module_name))\n",
    "            print(f\"Module '{module_name}' found at: {module_abs_path}\")\n",
    "            return True\n",
    "\n",
    "    # If the module is not found, return False\n",
    "    print(f\"Module '{module_name}' is NOT found in the repo.\")\n",
    "    return False\n",
    "\n",
    "# Example usage\n",
    "repo_path = './test/test_example10'  # Replace with the root directory of your repo\n",
    "module_name = '__pycache__'  # Replace with the name of the module to check\n",
    "\n",
    "if is_module_in_repo(module_name, repo_path):\n",
    "    print(f\"Module '{module_name}' is from the same repo.\")\n",
    "else:\n",
    "    print(f\"Module '{module_name}' is NOT from the same repo.\")\n"
   ]
  },
  {
   "cell_type": "code",
   "execution_count": null,
   "metadata": {},
   "outputs": [],
   "source": [
    "mkdir -p test/test_example11/subdir1/subsubdir1\n",
    "mkdir -p test/test_example11/subdir2/subsubdir2\n",
    "mkdir -p test/test_example11/subdir3"
   ]
  },
  {
   "cell_type": "code",
   "execution_count": 1,
   "metadata": {},
   "outputs": [
    {
     "name": "stdout",
     "output_type": "stream",
     "text": [
      "Module 'subdir2' is from the same repo.\n"
     ]
    }
   ],
   "source": [
    "import os\n",
    "\n",
    "def is_module_in_repo(module_name, repo_path):\n",
    "    # Walk through the repo directory structure\n",
    "    for root, dirs, files in os.walk(repo_path):\n",
    "        # Check if the module file is found in the current directory\n",
    "        if f\"{module_name}.py\" in files:\n",
    "            # If the module file is found, return True\n",
    "            module_abs_path = os.path.abspath(os.path.join(root, f\"{module_name}.py\"))\n",
    "            return True\n",
    "        # Check if the module directory exists\n",
    "        for dir_name in dirs:\n",
    "            # Check if the directory name matches the module path (e.g., test.test_example11.subdir2)\n",
    "            if module_name == dir_name:\n",
    "                module_abs_path = os.path.abspath(os.path.join(root, dir_name))\n",
    "                return True\n",
    "\n",
    "    # If the module is not found, return False\n",
    "    return False\n",
    "\n",
    "# Example usage\n",
    "repo_path = './test/test_example11'  # Replace with the root directory of your repo\n",
    "module_name = 'subdir2'  # Replace with the name of the module to check (e.g., 'testmodule' or 'subdir2')\n",
    "\n",
    "if is_module_in_repo(module_name, repo_path):\n",
    "    print(f\"Module '{module_name}' is from the same repo.\")\n",
    "else:\n",
    "    print(f\"Module '{module_name}' is NOT from the same repo.\")\n"
   ]
  },
  {
   "cell_type": "code",
   "execution_count": 14,
   "metadata": {},
   "outputs": [
    {
     "data": {
      "text/plain": [
       "'c:\\\\Users\\\\teeds\\\\Desktop\\\\projects\\\\pymagindev\\\\retry'"
      ]
     },
     "execution_count": 14,
     "metadata": {},
     "output_type": "execute_result"
    }
   ],
   "source": [
    "pwd"
   ]
  },
  {
   "cell_type": "code",
   "execution_count": 17,
   "metadata": {},
   "outputs": [
    {
     "data": {
      "text/plain": [
       "True"
      ]
     },
     "execution_count": 17,
     "metadata": {},
     "output_type": "execute_result"
    }
   ],
   "source": [
    "os.path.isdir('.\\\\test\\\\test_example11\\\\subdir1')"
   ]
  },
  {
   "cell_type": "code",
   "execution_count": 22,
   "metadata": {},
   "outputs": [
    {
     "name": "stdout",
     "output_type": "stream",
     "text": [
      "./test/test_example11\n",
      "['test', 'test_example11', 'subdir2', 'subsubdir2']\n",
      "Resolving 'test.test_example11.subdir2.subsubdir2' from base directory: ./test/test_example11\n",
      "Checking path: ./test/test_example11\\test\n",
      "Checking path: ./test/test_example11\\test\\test_example11\n",
      "Module 'test.test_example11.subdir2.subsubdir2' not found in the repo.\n"
     ]
    }
   ],
   "source": [
    "import os\n",
    "\n",
    "def resolve_import_path(import_path, base_dir):\n",
    "    \"\"\"\n",
    "    Resolves an import path to check if it exists within the repo starting from base_dir.\n",
    "    Handles both absolute and relative imports.\n",
    "    \"\"\"\n",
    "    path_parts = import_path.split('.')  # Split the import into its parts\n",
    "    current_path = base_dir  # Start from base directory (repo root)\n",
    "    \n",
    "    print(current_path)\n",
    "\n",
    "    print(path_parts)\n",
    "    \n",
    "    \n",
    "    \n",
    "    print(f\"Resolving '{import_path}' from base directory: {current_path}\")\n",
    "    \n",
    "    # Try to match the initial path part with the repo structure\n",
    "    for idx, part in enumerate(path_parts):\n",
    "        # Check if the current part matches the path at this point\n",
    "        \n",
    "        potential_path = os.path.join(current_path, part)\n",
    "        print(f\"Checking path: {potential_path}\")\n",
    "\n",
    "        if os.path.isdir(potential_path):\n",
    "            # If it's a directory, check for __init__.py (to treat as a package)\n",
    "            if os.path.exists(os.path.join(potential_path, '__init__.py')):\n",
    "                current_path = potential_path  # Continue resolving from this directory\n",
    "            else:\n",
    "                return False  # Directory without __init__.py is not a valid package\n",
    "        elif os.path.isfile(potential_path + '.py'):\n",
    "            # If it's a file with .py extension, it's a valid module\n",
    "            current_path = potential_path  # Continue resolving from this file\n",
    "        else:\n",
    "            # Neither a directory with __init__.py nor a valid Python file\n",
    "            return False\n",
    "\n",
    "    return True\n",
    "\n",
    "def is_module_in_repo(module_info, repo_path):\n",
    "    \"\"\"\n",
    "    Check if the module (or submodules) described by the import path exists in the repo.\n",
    "    Supports both absolute and relative imports by checking if the import path matches the repo structure.\n",
    "    \"\"\"\n",
    "    for entry in module_info:\n",
    "        for import_path, _ in entry.items():\n",
    "            # Check if the path to the module exists in the repo\n",
    "            if resolve_import_path(import_path, repo_path):\n",
    "                print(f\"Module '{import_path}' exists in the repo.\")\n",
    "            else:\n",
    "                print(f\"Module '{import_path}' not found in the repo.\")\n",
    "\n",
    "\n",
    "# Example usage\n",
    "repo_path = './test/test_example11'  # Path to your repo\n",
    "\n",
    "module_info = [\n",
    "    # {'test.test_example11.subdir2': []},  # Absolute import\n",
    "    # {'test.test_example11.subdir1.subsubdir1': []},  # Absolute import\n",
    "    # {'subdir3.subsubdir1': []},  # Relative import (should resolve relative to subdir3)\n",
    "    {'test.test_example11.subdir2.subsubdir2': []},  # Absolute import\n",
    "    # {'test.test_example11.subdir3.nonexistent_module': []},  # Nonexistent module\n",
    "]\n",
    "\n",
    "# Run the test\n",
    "is_module_in_repo(module_info, repo_path)\n"
   ]
  },
  {
   "cell_type": "code",
   "execution_count": 46,
   "metadata": {},
   "outputs": [
    {
     "name": "stdout",
     "output_type": "stream",
     "text": [
      "Base directory: .\\test\\test_example11\n",
      ".\\subsubdir1\n",
      "Final Resolved Path: True\n"
     ]
    }
   ],
   "source": [
    "import os\n",
    "\n",
    "def resolve_import_path(import_path, base_dir):\n",
    "    \"\"\"\n",
    "    Resolves an import path by iterating over the path parts and checking for valid directories.\n",
    "    If the path is not found, starts from the base directory and appends until a valid directory is found.\n",
    "    \"\"\"\n",
    "    # Split the import into its parts\n",
    "    path_parts = import_path.split('.')\n",
    "    \n",
    "    # Start from the base directory (repo root)\n",
    "    current_path = base_dir\n",
    "    print(\"Base directory:\", current_path)\n",
    "    \n",
    "    # Try to resolve the path progressively\n",
    "    partial_path = '.\\\\'\n",
    "    for i in path_parts:\n",
    "        partial_path = os.path.join(partial_path ,i)\n",
    "        print(partial_path)\n",
    "        if partial_path in current_path or partial_path == current_path:\n",
    "            continue\n",
    "        elif current_path in partial_path:\n",
    "            print(partial_path)\n",
    "            if os.path.isdir(partial_path):\n",
    "                continue\n",
    "            else:\n",
    "                return False\n",
    "        else:\n",
    "            partial_path = os.path.join(current_path,partial_path)\n",
    "\n",
    "    return True\n",
    "\n",
    "\n",
    "# Test the function\n",
    "base_dir = '.\\\\test\\\\test_example11' # This should be your repo root path\n",
    "import_path = 'subdir1.subsubdir1'  # Test path\n",
    "resolved_path = resolve_import_path(import_path, base_dir)\n",
    "print(\"Final Resolved Path:\", resolved_path)\n"
   ]
  },
  {
   "cell_type": "code",
   "execution_count": 44,
   "metadata": {},
   "outputs": [
    {
     "data": {
      "text/plain": [
       "False"
      ]
     },
     "execution_count": 44,
     "metadata": {},
     "output_type": "execute_result"
    }
   ],
   "source": [
    "os.path.isdir('.\\test\\.\\subdir1\\subsubdir1')"
   ]
  },
  {
   "cell_type": "code",
   "execution_count": 2,
   "metadata": {},
   "outputs": [],
   "source": [
    "import os "
   ]
  },
  {
   "cell_type": "code",
   "execution_count": 3,
   "metadata": {},
   "outputs": [
    {
     "data": {
      "text/plain": [
       "False"
      ]
     },
     "execution_count": 3,
     "metadata": {},
     "output_type": "execute_result"
    }
   ],
   "source": [
    "os.path.isdir('.\\test\\test_example11\\subdir1\\nonexistent_module')"
   ]
  },
  {
   "cell_type": "code",
   "execution_count": null,
   "metadata": {},
   "outputs": [],
   "source": [
    "from test.test_example10.functional import "
   ]
  },
  {
   "cell_type": "code",
   "execution_count": 9,
   "metadata": {},
   "outputs": [
    {
     "name": "stdout",
     "output_type": "stream",
     "text": [
      "retry.test.test_example11 could not be imported.\n"
     ]
    }
   ],
   "source": [
    "import sys\n",
    "import os\n",
    "\n",
    "# Name of the module you want to check\n",
    "module_name = \"retry.test.test_example11\"\n",
    "\n",
    "# Try importing the module\n",
    "try:\n",
    "    module = __import__(module_name)\n",
    "    \n",
    "    # Get the file path of the module\n",
    "    module_file_path = os.path.abspath(module.__file__)\n",
    "    \n",
    "    # Get the root directory of your repository (assuming you're in the repo's root)\n",
    "    repo_root = os.path.abspath(os.path.dirname(__file__))\n",
    "    \n",
    "    # Check if the module is from within the repo and not a site-package\n",
    "    if repo_root in module_file_path and 'site-packages' not in module_file_path:\n",
    "        print(f\"{module_name} is from the same repo\")\n",
    "    else:\n",
    "        print(f\"{module_name} is not from the same repo\")\n",
    "except ImportError:\n",
    "    print(f\"{module_name} could not be imported.\")\n"
   ]
  },
  {
   "cell_type": "code",
   "execution_count": null,
   "metadata": {},
   "outputs": [],
   "source": []
  }
 ],
 "metadata": {
  "kernelspec": {
   "display_name": "pymag",
   "language": "python",
   "name": "python3"
  },
  "language_info": {
   "codemirror_mode": {
    "name": "ipython",
    "version": 3
   },
   "file_extension": ".py",
   "mimetype": "text/x-python",
   "name": "python",
   "nbconvert_exporter": "python",
   "pygments_lexer": "ipython3",
   "version": "3.11.11"
  }
 },
 "nbformat": 4,
 "nbformat_minor": 2
}
