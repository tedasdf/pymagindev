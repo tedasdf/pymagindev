{
 "cells": [
  {
   "cell_type": "code",
   "execution_count": 2,
   "metadata": {},
   "outputs": [],
   "source": [
    "import ast \n",
    "import ast\n",
    "\n",
    "def make_import(trees):\n",
    "    import_list = []\n",
    "\n",
    "    for import_tree in trees:\n",
    "        if isinstance(import_tree, ast.ImportFrom):\n",
    "            # Handle 'from ... import ...' imports\n",
    "            from_inst = import_tree.module\n",
    "            names_list = [\n",
    "                (alias.name, alias.asname) if alias.asname else alias.name\n",
    "                for alias in import_tree.names\n",
    "            ]\n",
    "            # Append the import directly\n",
    "            import_list.append({from_inst: names_list})\n",
    "        \n",
    "        elif isinstance(import_tree, ast.Import):\n",
    "            # Handle 'import ...' imports\n",
    "            names_list = [\n",
    "                (alias.name, alias.asname) if alias.asname else alias.name\n",
    "                for alias in import_tree.names\n",
    "            ]\n",
    "            # Append the import directly\n",
    "            import_list.extend(names_list)\n",
    "    \n",
    "    return import_list\n"
   ]
  },
  {
   "cell_type": "code",
   "execution_count": 3,
   "metadata": {},
   "outputs": [
    {
     "name": "stdout",
     "output_type": "stream",
     "text": [
      "Module(\n",
      "    body=[\n",
      "        Import(\n",
      "            names=[\n",
      "                alias(name='math')])],\n",
      "    type_ignores=[])\n",
      "['math']\n"
     ]
    }
   ],
   "source": [
    "import ast\n",
    "from python import Python\n",
    "\n",
    "source_code = \"\"\"\n",
    "import math\n",
    "\"\"\"\n",
    "\n",
    "\n",
    "\n",
    "tree = ast.parse(source_code)\n",
    "print(ast.dump(tree, indent=4))\n",
    "print(make_import(tree.body))\n"
   ]
  },
  {
   "cell_type": "code",
   "execution_count": 4,
   "metadata": {},
   "outputs": [
    {
     "name": "stdout",
     "output_type": "stream",
     "text": [
      "Module(\n",
      "    body=[\n",
      "        ImportFrom(\n",
      "            module='math',\n",
      "            names=[\n",
      "                alias(name='sqrt'),\n",
      "                alias(name='pi')],\n",
      "            level=0)],\n",
      "    type_ignores=[])\n",
      "[{'math': ['sqrt', 'pi']}]\n"
     ]
    }
   ],
   "source": [
    "source_code1 = \"\"\"\n",
    "from math import sqrt, pi\n",
    "\"\"\"\n",
    "\n",
    "tree1 = ast.parse(source_code1)\n",
    "print(ast.dump(tree1, indent=4))\n",
    "print(make_import(tree1.body))"
   ]
  },
  {
   "cell_type": "code",
   "execution_count": 5,
   "metadata": {},
   "outputs": [
    {
     "name": "stdout",
     "output_type": "stream",
     "text": [
      "Module(\n",
      "    body=[\n",
      "        ImportFrom(\n",
      "            module='math',\n",
      "            names=[\n",
      "                alias(name='*')],\n",
      "            level=0),\n",
      "        Expr(\n",
      "            value=Call(\n",
      "                func=Name(id='print', ctx=Load()),\n",
      "                args=[\n",
      "                    Call(\n",
      "                        func=Name(id='sqrt', ctx=Load()),\n",
      "                        args=[\n",
      "                            Constant(value=16)],\n",
      "                        keywords=[])],\n",
      "                keywords=[]))],\n",
      "    type_ignores=[])\n",
      "[{'math': ['*']}]\n"
     ]
    }
   ],
   "source": [
    "source_code2 = \"\"\"\n",
    "\n",
    "# 3. Importing All Functions/Classes from a Module\n",
    "from math import *\n",
    "print(sqrt(16))  # Output: 4.0\n",
    "\"\"\"\n",
    "\n",
    "tree2 = ast.parse(source_code2)\n",
    "print(ast.dump(tree2, indent=4))\n",
    "print(make_import(tree2.body))"
   ]
  },
  {
   "cell_type": "code",
   "execution_count": 6,
   "metadata": {},
   "outputs": [
    {
     "name": "stdout",
     "output_type": "stream",
     "text": [
      "Module(\n",
      "    body=[\n",
      "        Import(\n",
      "            names=[\n",
      "                alias(name='numpy', asname='np'),\n",
      "                alias(name='matplotlib.pyplot', asname='plt')])],\n",
      "    type_ignores=[])\n",
      "[('numpy', 'np'), ('matplotlib.pyplot', 'plt')]\n"
     ]
    }
   ],
   "source": [
    "source_code3= \"\"\"\n",
    "\n",
    "# 4. Using Aliases for Modules (Renaming Modules)\n",
    "import numpy as np , matplotlib.pyplot as plt\n",
    "\"\"\"\n",
    "\n",
    "tree = ast.parse(source_code3)\n",
    "print(ast.dump(tree, indent=4))\n",
    "print(make_import(tree.body))"
   ]
  },
  {
   "cell_type": "code",
   "execution_count": 7,
   "metadata": {},
   "outputs": [
    {
     "name": "stdout",
     "output_type": "stream",
     "text": [
      "Module(\n",
      "    body=[\n",
      "        ImportFrom(\n",
      "            module='math',\n",
      "            names=[\n",
      "                alias(name='sqrt', asname='square_root'),\n",
      "                alias(name='pi', asname='π')],\n",
      "            level=0)],\n",
      "    type_ignores=[])\n",
      "[{'math': [('sqrt', 'square_root'), ('pi', 'π')]}]\n"
     ]
    }
   ],
   "source": [
    "source_code4=\"\"\"\n",
    "\n",
    "# 5. Using Aliases for Specific Functions or Classes\n",
    "from math import sqrt as square_root, pi as π\n",
    "\"\"\"\n",
    "tree = ast.parse(source_code4)\n",
    "print(ast.dump(tree, indent=4))\n",
    "print(make_import(tree.body))"
   ]
  },
  {
   "cell_type": "code",
   "execution_count": 8,
   "metadata": {},
   "outputs": [
    {
     "name": "stdout",
     "output_type": "stream",
     "text": [
      "Module(\n",
      "    body=[\n",
      "        ImportFrom(\n",
      "            module='math',\n",
      "            names=[\n",
      "                alias(name='sqrt', asname='square_root'),\n",
      "                alias(name='pi', asname='π')],\n",
      "            level=0)],\n",
      "    type_ignores=[])\n",
      "[{'math': [('sqrt', 'square_root'), ('pi', 'π')]}]\n"
     ]
    }
   ],
   "source": [
    "source_code5= \"\"\"\n",
    "# 5. Using Aliases for Specific Functions or Classes\n",
    "from math import sqrt as square_root, pi as π\n",
    "\"\"\"\n",
    "\n",
    "tree = ast.parse(source_code5)\n",
    "print(ast.dump(tree, indent=4))\n",
    "print(make_import(tree.body))"
   ]
  },
  {
   "cell_type": "code",
   "execution_count": 9,
   "metadata": {},
   "outputs": [
    {
     "name": "stdout",
     "output_type": "stream",
     "text": [
      "Module(\n",
      "    body=[\n",
      "        Import(\n",
      "            names=[\n",
      "                alias(name='importlib')]),\n",
      "        Assign(\n",
      "            targets=[\n",
      "                Name(id='math_module', ctx=Store())],\n",
      "            value=Call(\n",
      "                func=Attribute(\n",
      "                    value=Name(id='importlib', ctx=Load()),\n",
      "                    attr='import_module',\n",
      "                    ctx=Load()),\n",
      "                args=[\n",
      "                    Constant(value='math')],\n",
      "                keywords=[])),\n",
      "        Expr(\n",
      "            value=Call(\n",
      "                func=Name(id='print', ctx=Load()),\n",
      "                args=[\n",
      "                    Call(\n",
      "                        func=Attribute(\n",
      "                            value=Name(id='math_module', ctx=Load()),\n",
      "                            attr='sqrt',\n",
      "                            ctx=Load()),\n",
      "                        args=[\n",
      "                            Constant(value=16)],\n",
      "                        keywords=[])],\n",
      "                keywords=[]))],\n",
      "    type_ignores=[])\n",
      "['importlib']\n"
     ]
    }
   ],
   "source": [
    "source_code6 = \"\"\"\n",
    "\n",
    "# 6. Importing Modules Using Dynamic Imports\n",
    "import importlib\n",
    "math_module = importlib.import_module('math')\n",
    "print(math_module.sqrt(16))  # Output: 4.0\n",
    "\"\"\"\n",
    "\n",
    "tree = ast.parse(source_code6)\n",
    "print(ast.dump(tree, indent=4))\n",
    "print(make_import(tree.body))"
   ]
  },
  {
   "cell_type": "code",
   "execution_count": null,
   "metadata": {},
   "outputs": [],
   "source": [
    "source_code7=\"\"\"\n",
    "\n",
    "# 7. Importing from Submodules\n",
    "from os import path\n",
    "print(path.exists('/some/file'))\n",
    "\"\"\"\n",
    "tree = ast.parse(source_code7)\n",
    "print(ast.dump(tree, indent=4))\n",
    "print(make_import(tree.body))"
   ]
  },
  {
   "cell_type": "code",
   "execution_count": null,
   "metadata": {},
   "outputs": [],
   "source": [
    "source_code8 = \"\"\"\n",
    "\n",
    "# 8. Importing Using Relative Imports (inside a package)\n",
    "# This would be used inside a package, so it's just an example:\n",
    "# from .module_name import function_name\n",
    "\"\"\"\n",
    "\n",
    "tree = ast.parse(source_code8)\n",
    "print(ast.dump(tree, indent=4))\n",
    "print(make_import(tree.body))"
   ]
  },
  {
   "cell_type": "code",
   "execution_count": null,
   "metadata": {},
   "outputs": [],
   "source": [
    "source_code9 = \"\"\"\n",
    "\n",
    "# 9. Importing Multiple Modules in One Line\n",
    "import os, sys, math\n",
    "print(math.sqrt(16))  # Output: 4.0\n",
    "print(os.name)        # Output: 'posix' (or 'nt' depending on OS)\n",
    "print(sys.version)     # Python version info\n",
    "\"\"\"\n",
    "tree = ast.parse(source_code9)\n",
    "print(ast.dump(tree, indent=4))\n",
    "print(make_import(tree.body))"
   ]
  },
  {
   "cell_type": "code",
   "execution_count": null,
   "metadata": {},
   "outputs": [],
   "source": [
    "source_code10 = \"\"\"\n",
    "\n",
    "# 10. Importing Using a Custom Class or Structure (not part of Python syntax)\n",
    "# This is for organizational purposes, not how Python normally handles imports\n",
    "class Import:\n",
    "    def __init__(self, names):\n",
    "        self.names = names\n",
    "\n",
    "class Alias:\n",
    "    def __init__(self, name):\n",
    "        self.name = name\n",
    "\n",
    "# Example usage of a custom structure\n",
    "imports = Import(names=[Alias(name='math'), Alias(name='sys')])\n",
    "for alias in imports.names:\n",
    "    print(alias.name)  # Output: math, sys\n",
    "    \"\"\"\n",
    "\n",
    "tree = ast.parse(source_code10)\n",
    "print(ast.dump(tree, indent=4))\n",
    "print(make_import(tree.body))"
   ]
  }
 ],
 "metadata": {
  "kernelspec": {
   "display_name": "pymag",
   "language": "python",
   "name": "python3"
  },
  "language_info": {
   "codemirror_mode": {
    "name": "ipython",
    "version": 3
   },
   "file_extension": ".py",
   "mimetype": "text/x-python",
   "name": "python",
   "nbconvert_exporter": "python",
   "pygments_lexer": "ipython3",
   "version": "3.11.11"
  }
 },
 "nbformat": 4,
 "nbformat_minor": 2
}
